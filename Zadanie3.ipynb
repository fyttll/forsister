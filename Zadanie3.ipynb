{
 "cells": [
  {
   "cell_type": "code",
   "execution_count": 5,
   "id": "cd61170a-eeb5-4563-8c01-4a66b1933267",
   "metadata": {},
   "outputs": [
    {
     "name": "stdin",
     "output_type": "stream",
     "text": [
      "Введите слово:  sveta\n"
     ]
    },
    {
     "name": "stdout",
     "output_type": "stream",
     "text": [
      "Результат: e\n"
     ]
    }
   ],
   "source": [
    "word = input(\"Введите слово: \")  \n",
    "\n",
    "length = len(word)  \n",
    "\n",
    "if length % 2 == 0:\n",
    "   \n",
    "    middle = word[length // 2 - 1 : length // 2 + 1]\n",
    "else:\n",
    "    \n",
    "    middle = word[length // 2]\n",
    "\n",
    "print(\"Результат:\", middle)"
   ]
  },
  {
   "cell_type": "code",
   "execution_count": null,
   "id": "c7380cb7-29be-4a03-ba58-048afc989aff",
   "metadata": {},
   "outputs": [],
   "source": []
  }
 ],
 "metadata": {
  "kernelspec": {
   "display_name": "Python 3 (ipykernel)",
   "language": "python",
   "name": "python3"
  },
  "language_info": {
   "codemirror_mode": {
    "name": "ipython",
    "version": 3
   },
   "file_extension": ".py",
   "mimetype": "text/x-python",
   "name": "python",
   "nbconvert_exporter": "python",
   "pygments_lexer": "ipython3",
   "version": "3.12.7"
  }
 },
 "nbformat": 4,
 "nbformat_minor": 5
}
