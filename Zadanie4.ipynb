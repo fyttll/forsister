{
 "cells": [
  {
   "cell_type": "code",
   "execution_count": 3,
   "id": "ebfacbb4-c495-49f9-b926-6dadf4cfba1e",
   "metadata": {},
   "outputs": [
    {
     "name": "stdin",
     "output_type": "stream",
     "text": [
      "Введите команду:  p\n",
      "Введите номер документа:  10006\n"
     ]
    },
    {
     "name": "stdout",
     "output_type": "stream",
     "text": [
      "Владелец документа: Аристарх Павлов\n"
     ]
    }
   ],
   "source": [
    "documents = [\n",
    "    {'type': 'passport', 'number': '2207 876234', 'name': 'Василий Гупкин'},\n",
    "    {'type': 'invoice', 'number': '11-2', 'name': 'Геннадий Покемонов'},\n",
    "    {'type': 'insurance', 'number': '10006', 'name': 'Аристарх Павлов'}\n",
    "]\n",
    "\n",
    "directories = {\n",
    "    '1': ['2207 876234', '11-2'],\n",
    "    '2': ['10006'],\n",
    "    '3': []\n",
    "}\n",
    "\n",
    "def find_owner_by_document_number(document_number):\n",
    "    for document in documents:\n",
    "        if document['number'] == document_number:\n",
    "            return document['name']\n",
    "    return None\n",
    "\n",
    "def main():\n",
    "        command = input(\"Введите команду: \")\n",
    "        if command == 'p':\n",
    "            document_number = input(\"Введите номер документа: \")\n",
    "            owner = find_owner_by_document_number(document_number)\n",
    "            if owner:\n",
    "                print(f\"Владелец документа: {owner}\")\n",
    "            else:\n",
    "                print(\"Документ не найден.\")\n",
    "        elif command == 'q':\n",
    "            print(\"Программа завершена.\")\n",
    "        else:\n",
    "            print(\"Неизвестная команда. Попробуйте снова.\")\n",
    "\n",
    "main()"
   ]
  },
  {
   "cell_type": "code",
   "execution_count": null,
   "id": "1cc10931-aebc-43db-9e33-2fc723c87f44",
   "metadata": {},
   "outputs": [],
   "source": []
  }
 ],
 "metadata": {
  "kernelspec": {
   "display_name": "Python 3 (ipykernel)",
   "language": "python",
   "name": "python3"
  },
  "language_info": {
   "codemirror_mode": {
    "name": "ipython",
    "version": 3
   },
   "file_extension": ".py",
   "mimetype": "text/x-python",
   "name": "python",
   "nbconvert_exporter": "python",
   "pygments_lexer": "ipython3",
   "version": "3.12.7"
  }
 },
 "nbformat": 4,
 "nbformat_minor": 5
}
